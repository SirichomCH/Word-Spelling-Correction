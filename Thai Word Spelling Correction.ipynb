{
 "cells": [
  {
   "cell_type": "code",
   "execution_count": 1,
   "metadata": {},
   "outputs": [],
   "source": [
    "from pythainlp.corpus import thai_words\n",
    "import numpy as np\n",
    "\n",
    "words = thai_words()\n",
    "words = np.array(list(words))"
   ]
  },
  {
   "cell_type": "code",
   "execution_count": 2,
   "metadata": {},
   "outputs": [],
   "source": [
    "#change word to character\n",
    "words_str = '\\n'.join(words)\n",
    "words_char = list(words_str)"
   ]
  },
  {
   "cell_type": "code",
   "execution_count": 3,
   "metadata": {},
   "outputs": [],
   "source": [
    "#save data for train model using fasttext\n",
    "with open('words-char.txt', mode='w', encoding='utf-8') as file:\n",
    " file.write(' '.join(words_char))"
   ]
  },
  {
   "cell_type": "code",
   "execution_count": 5,
   "metadata": {},
   "outputs": [],
   "source": [
    "import fasttext"
   ]
  },
  {
   "cell_type": "code",
   "execution_count": 6,
   "metadata": {},
   "outputs": [],
   "source": [
    "model = fasttext.train_unsupervised('words-char.txt', epoch=200, ws=3) #ws is window size"
   ]
  },
  {
   "cell_type": "code",
   "execution_count": 12,
   "metadata": {},
   "outputs": [],
   "source": [
    "words_vec = [model.get_sentence_vector(' '.join(list(word))) for word in words]\n",
    "words_vec = np.array(words_vec)"
   ]
  },
  {
   "cell_type": "code",
   "execution_count": 13,
   "metadata": {},
   "outputs": [],
   "source": [
    "#create Nearest neighbors model for calculate Word similarity\n",
    "from sklearn.neighbors import NearestNeighbors\n",
    "import numpy as np\n",
    "\n",
    "X, y = words_vec, words\n",
    "nbrs = NearestNeighbors().fit(X, y)"
   ]
  },
  {
   "cell_type": "code",
   "execution_count": 14,
   "metadata": {},
   "outputs": [],
   "source": [
    "import joblib\n",
    "\n",
    "model.save_model('char2vec.bin')  # fasttext model\n",
    "joblib.dump(words, 'words.joblib')\n",
    "joblib.dump(nbrs, 'nbrs.joblib');"
   ]
  },
  {
   "cell_type": "code",
   "execution_count": 4,
   "metadata": {},
   "outputs": [
    {
     "name": "stderr",
     "output_type": "stream",
     "text": [
      "Warning : `load_model` does not return WordVectorModel or SupervisedModel any more, but a `FastText` object which is very similar.\n"
     ]
    }
   ],
   "source": [
    "import fasttext\n",
    "import joblib\n",
    "\n",
    "model = fasttext.load_model('char2vec.bin')\n",
    "words = joblib.load('words.joblib')\n",
    "nbrs = joblib.load('nbrs.joblib')"
   ]
  },
  {
   "cell_type": "code",
   "execution_count": 5,
   "metadata": {},
   "outputs": [],
   "source": [
    "words_input = ['สุขุยวิมท', 'น้านอาหาย', 'สวัดี', 'การบเ้าน', 'อรอย']"
   ]
  },
  {
   "cell_type": "code",
   "execution_count": 17,
   "metadata": {},
   "outputs": [
    {
     "name": "stdout",
     "output_type": "stream",
     "text": [
      "สุขุยวิมท \n",
      "---> ['สุขุมวิท']\n",
      "น้านอาหาย \n",
      "---> ['นายหน้า']\n",
      "สวัดี \n",
      "---> ['สวัสดี']\n",
      "การบเ้าน \n",
      "---> ['การบ้าน']\n",
      "อรอย \n",
      "---> ['รอย']\n"
     ]
    }
   ],
   "source": [
    "word_input_vec = [model.get_sentence_vector(' '.join(list(word))) for word in words_input]\n",
    "indices = nbrs.kneighbors(word_input_vec, 1, False)  # n_neighbors is 1\n",
    "suggestion = words[indices]\n",
    "\n",
    "for w, s in zip(words_input, suggestion):\n",
    "    print(f'{w} \\n---> {s}')"
   ]
  },
  {
   "cell_type": "code",
   "execution_count": null,
   "metadata": {},
   "outputs": [],
   "source": []
  }
 ],
 "metadata": {
  "kernelspec": {
   "display_name": "Python 3",
   "language": "python",
   "name": "python3"
  },
  "language_info": {
   "codemirror_mode": {
    "name": "ipython",
    "version": 3
   },
   "file_extension": ".py",
   "mimetype": "text/x-python",
   "name": "python",
   "nbconvert_exporter": "python",
   "pygments_lexer": "ipython3",
   "version": "3.7.7"
  }
 },
 "nbformat": 4,
 "nbformat_minor": 4
}
